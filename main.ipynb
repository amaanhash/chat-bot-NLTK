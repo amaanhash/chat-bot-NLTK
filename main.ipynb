{
  "nbformat": 4,
  "nbformat_minor": 0,
  "metadata": {
    "colab": {
      "provenance": [],
      "mount_file_id": "15c1nbukhwmff4RNj_CXYWgejMDS4dilg",
      "authorship_tag": "ABX9TyOOgYQJuWM/nXHB8KQxowkN",
      "include_colab_link": true
    },
    "kernelspec": {
      "name": "python3",
      "display_name": "Python 3"
    },
    "language_info": {
      "name": "python"
    }
  },
  "cells": [
    {
      "cell_type": "markdown",
      "metadata": {
        "id": "view-in-github",
        "colab_type": "text"
      },
      "source": [
        "<a href=\"https://colab.research.google.com/github/amaanhash/chat-bot-NLTK/blob/main/main.ipynb\" target=\"_parent\"><img src=\"https://colab.research.google.com/assets/colab-badge.svg\" alt=\"Open In Colab\"/></a>"
      ]
    },
    {
      "cell_type": "markdown",
      "source": [
        "libraries required"
      ],
      "metadata": {
        "id": "j283cli2qfrp"
      }
    },
    {
      "cell_type": "code",
      "execution_count": 18,
      "metadata": {
        "id": "2qdamPfRSS53"
      },
      "outputs": [],
      "source": [
        "import numpy as np\n",
        "import nltk\n",
        "import string\n",
        "import random"
      ]
    },
    {
      "cell_type": "markdown",
      "source": [
        "creating a function to read corpus text"
      ],
      "metadata": {
        "id": "OXemMqz3vp1J"
      }
    },
    {
      "cell_type": "code",
      "source": [
        " corpus = open('/content/stoicism.txt','r',errors ='ignore')\n",
        " raw_text = corpus.read()"
      ],
      "metadata": {
        "id": "xGCulxjOqkZ9"
      },
      "execution_count": 19,
      "outputs": []
    },
    {
      "cell_type": "markdown",
      "source": [
        "downloading nltk libraries and breaking sentences into tokens"
      ],
      "metadata": {
        "id": "O0-MMddv3UAt"
      }
    },
    {
      "cell_type": "code",
      "source": [
        "raw_text = raw_text.lower()\n",
        "nltk.download('punkt')\n",
        "nltk.download('wordnet')\n",
        "nltk.download('omw-1.4')\n",
        "sentence_tokens=nltk.sent_tokenize(raw_text)\n",
        "word_tokens=nltk.word_tokenize(raw_text)"
      ],
      "metadata": {
        "colab": {
          "base_uri": "https://localhost:8080/"
        },
        "id": "ymD906M9vgNj",
        "outputId": "cf19b655-c063-4a86-b32d-9dcb1a00e856"
      },
      "execution_count": 20,
      "outputs": [
        {
          "output_type": "stream",
          "name": "stderr",
          "text": [
            "[nltk_data] Downloading package punkt to /root/nltk_data...\n",
            "[nltk_data]   Package punkt is already up-to-date!\n",
            "[nltk_data] Downloading package wordnet to /root/nltk_data...\n",
            "[nltk_data]   Package wordnet is already up-to-date!\n",
            "[nltk_data] Downloading package omw-1.4 to /root/nltk_data...\n",
            "[nltk_data]   Package omw-1.4 is already up-to-date!\n"
          ]
        }
      ]
    },
    {
      "cell_type": "markdown",
      "source": [
        "lemmetizing the sentences by removing punctuation"
      ],
      "metadata": {
        "id": "TNx8Aqiu3g0U"
      }
    },
    {
      "cell_type": "code",
      "source": [
        "lemmer=nltk.stem.WordNetLemmatizer()\n",
        "def LemmTokens(tokens):\n",
        "   return[lemmer.lemmatize(token)for token in tokens]\n",
        "remove_punctuation=dict((ord(punct),None) for punct in string.punctuation)\n",
        "def LemNormalize(text):\n",
        "  return LemTokens(nltk.word_tokenize(text.lower().translate(remove_punctuation)))"
      ],
      "metadata": {
        "id": "7L5yD7xdyP5E"
      },
      "execution_count": 5,
      "outputs": []
    },
    {
      "cell_type": "markdown",
      "source": [
        "this creates a return response to a greeting"
      ],
      "metadata": {
        "id": "nHySxAE1Zmbs"
      }
    },
    {
      "cell_type": "code",
      "source": [
        "greet_input =('hello','wassup','hi','how are you?')\n",
        "greet_output=('hello fellow human','welcome to existence','Suffering is inevitable')\n",
        "def greet(sentence):\n",
        "  for word in sentence.split():\n",
        "    if word.lower() in greet_input:\n",
        "      return random.choice(greet_output)\n"
      ],
      "metadata": {
        "id": "A49dO2tD3qAt"
      },
      "execution_count": 6,
      "outputs": []
    },
    {
      "cell_type": "code",
      "source": [
        "from sklearn.feature_extraction.text import TfidfVectorizer\n",
        "from sklearn.metrics.pairwise import cosine_similarity"
      ],
      "metadata": {
        "id": "TN_tatrIaBHy"
      },
      "execution_count": 7,
      "outputs": []
    },
    {
      "cell_type": "code",
      "source": [
        "def response(user_response):\n",
        "  bot_response =''\n",
        "  TfidfVec = TfidfVectorizer(tokenizer=LemmTokens,stop_words='english')\n",
        "  tfidf = TfidfVec.fit_transform(sentence_tokens)\n",
        "  vals=cosine_similarity(tfidf[-1],tfidf)\n",
        "  idx = vals.argsort()[0][-2]\n",
        "  flat = vals.flatten()\n",
        "  flat.sort()\n",
        "  req_tfidf = flat[-2]\n",
        "  if (req_tfidf==0):\n",
        "    bot_response = bot_response+\"Sorry Fellow human.what you are saying is incomprehendeble\"\n",
        "    return bot_response\n",
        "  else:\n",
        "    bot_response = bot_response + sentence_tokens[idx]\n",
        "    return bot_response"
      ],
      "metadata": {
        "id": "-JG0cEzSamDc"
      },
      "execution_count": 21,
      "outputs": []
    },
    {
      "cell_type": "code",
      "source": [
        "flag = True\n",
        "print('Hello! I am the Learned Bot.Start typing your text after greeting to talk to me.For ending convo type bye!')\n",
        "while(flag==True):\n",
        "  user_response =input()\n",
        "  user_response = user_response.lower()\n",
        "  if(user_response!='bye'):\n",
        "    if(user_response == 'thank you'or user_response == 'thanks'):\n",
        "      flag = False\n",
        "      print('Bot: youre welcome..')\n",
        "    else:\n",
        "      if(greet(user_response)!=None):\n",
        "        print('Bot:'+greet(user_response))\n",
        "      else:\n",
        "        sentence_tokens.append(user_response)\n",
        "        word_tokens=word_tokens +nltk.word_tokenize(user_response)\n",
        "        final_words = list(set(word_tokens))\n",
        "        print('Bot:',end = '')\n",
        "        print(response(user_response))\n",
        "        sentence_tokens.remove(user_response)\n",
        "  else:\n",
        "    flag = False\n",
        "    print(\"Bot: onto your life\")\n"
      ],
      "metadata": {
        "colab": {
          "base_uri": "https://localhost:8080/"
        },
        "id": "G3jic9kaZrPv",
        "outputId": "a55afd3b-e199-4492-f5f8-894b66f42ef2"
      },
      "execution_count": null,
      "outputs": [
        {
          "output_type": "stream",
          "name": "stdout",
          "text": [
            "Hello! I am the Learned Bot.Start typing your text after greeting to talk to me.For ending convo type bye!\n"
          ]
        }
      ]
    }
  ]
}