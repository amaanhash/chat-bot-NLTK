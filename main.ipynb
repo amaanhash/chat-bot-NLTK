{
  "nbformat": 4,
  "nbformat_minor": 0,
  "metadata": {
    "colab": {
      "provenance": [],
      "mount_file_id": "15c1nbukhwmff4RNj_CXYWgejMDS4dilg",
      "authorship_tag": "ABX9TyN6l1Ll6jUnwOPzaWEdeZRn",
      "include_colab_link": true
    },
    "kernelspec": {
      "name": "python3",
      "display_name": "Python 3"
    },
    "language_info": {
      "name": "python"
    }
  },
  "cells": [
    {
      "cell_type": "markdown",
      "metadata": {
        "id": "view-in-github",
        "colab_type": "text"
      },
      "source": [
        "<a href=\"https://colab.research.google.com/github/amaanhash/chat-bot-NLTK/blob/main/main.ipynb\" target=\"_parent\"><img src=\"https://colab.research.google.com/assets/colab-badge.svg\" alt=\"Open In Colab\"/></a>"
      ]
    },
    {
      "cell_type": "code",
      "execution_count": null,
      "metadata": {
        "id": "2qdamPfRSS53"
      },
      "outputs": [],
      "source": [
        "import numpy as np\n",
        "import nltk\n",
        "import string\n",
        "import random"
      ]
    },
    {
      "cell_type": "markdown",
      "source": [
        "libraries required"
      ],
      "metadata": {
        "id": "j283cli2qfrp"
      }
    },
    {
      "cell_type": "code",
      "source": [
        " f = open('/content/stoicism.txt','r',errors ='ignore')\n",
        " raw_text = f.read()"
      ],
      "metadata": {
        "id": "xGCulxjOqkZ9"
      },
      "execution_count": 1,
      "outputs": []
    }
  ]
}