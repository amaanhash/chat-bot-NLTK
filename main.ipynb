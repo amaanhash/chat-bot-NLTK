{
  "cells": [
    {
      "cell_type": "markdown",
      "metadata": {
        "id": "view-in-github",
        "colab_type": "text"
      },
      "source": [
        "<a href=\"https://colab.research.google.com/github/amaanhash/chat-bot-NLTK/blob/main/main.ipynb\" target=\"_parent\"><img src=\"https://colab.research.google.com/assets/colab-badge.svg\" alt=\"Open In Colab\"/></a>"
      ]
    },
    {
      "cell_type": "markdown",
      "metadata": {
        "id": "j283cli2qfrp"
      },
      "source": [
        "libraries required"
      ]
    },
    {
      "cell_type": "code",
      "execution_count": 18,
      "metadata": {
        "id": "2qdamPfRSS53"
      },
      "outputs": [],
      "source": [
        "import numpy as np\n",
        "import nltk\n",
        "import string\n",
        "import random"
      ]
    },
    {
      "cell_type": "markdown",
      "metadata": {
        "id": "OXemMqz3vp1J"
      },
      "source": [
        "creating a function to read corpus text"
      ]
    },
    {
      "cell_type": "code",
      "execution_count": null,
      "metadata": {
        "id": "xGCulxjOqkZ9"
      },
      "outputs": [],
      "source": [
        " corpus = open('/content/stoicism.txt','r',errors ='ignore')\n",
        " raw_text = corpus.read()"
      ]
    },
    {
      "cell_type": "markdown",
      "metadata": {
        "id": "O0-MMddv3UAt"
      },
      "source": [
        "downloading nltk libraries and breaking sentences into tokens"
      ]
    },
    {
      "cell_type": "code",
      "execution_count": 19,
      "metadata": {
        "colab": {
          "base_uri": "https://localhost:8080/"
        },
        "id": "ymD906M9vgNj",
        "outputId": "536e2ac2-a516-4206-c301-46e80942e60b"
      },
      "outputs": [
        {
          "output_type": "stream",
          "name": "stderr",
          "text": [
            "[nltk_data] Downloading package punkt to /root/nltk_data...\n",
            "[nltk_data]   Package punkt is already up-to-date!\n",
            "[nltk_data] Downloading package wordnet to /root/nltk_data...\n",
            "[nltk_data]   Package wordnet is already up-to-date!\n",
            "[nltk_data] Downloading package omw-1.4 to /root/nltk_data...\n",
            "[nltk_data]   Package omw-1.4 is already up-to-date!\n"
          ]
        }
      ],
      "source": [
        "raw_text = raw_text.lower()\n",
        "nltk.download('punkt')\n",
        "nltk.download('wordnet')\n",
        "nltk.download('omw-1.4')\n",
        "sentence_tokens=nltk.sent_tokenize(raw_text)\n",
        "word_tokens=nltk.word_tokenize(raw_text)"
      ]
    },
    {
      "cell_type": "markdown",
      "metadata": {
        "id": "TNx8Aqiu3g0U"
      },
      "source": [
        "lemmetizing the sentences by removing punctuation"
      ]
    },
    {
      "cell_type": "code",
      "execution_count": 20,
      "metadata": {
        "id": "7L5yD7xdyP5E"
      },
      "outputs": [],
      "source": [
        "lemmer=nltk.stem.WordNetLemmatizer()\n",
        "def LemmTokens(tokens):\n",
        "   return[lemmer.lemmatize(token)for token in tokens]\n",
        "remove_punctuation=dict((ord(punct),None) for punct in string.punctuation)\n",
        "def LemNormalize(text):\n",
        "  return LemTokens(nltk.word_tokenize(text.lower().translate(remove_punctuation)))"
      ]
    },
    {
      "cell_type": "markdown",
      "metadata": {
        "id": "nHySxAE1Zmbs"
      },
      "source": [
        "this creates a return response to a greeting"
      ]
    },
    {
      "cell_type": "code",
      "execution_count": 21,
      "metadata": {
        "id": "A49dO2tD3qAt"
      },
      "outputs": [],
      "source": [
        "greet_input =('hello','wassup','hi','how are you?')\n",
        "greet_output=('hello fellow human','welcome to existence','Suffering is inevitable')\n",
        "def greet(sentence):\n",
        "  for word in sentence.split():\n",
        "    if word.lower() in greet_input:\n",
        "      return random.choice(greet_output)\n"
      ]
    },
    {
      "cell_type": "code",
      "execution_count": null,
      "metadata": {
        "id": "TN_tatrIaBHy"
      },
      "outputs": [],
      "source": [
        "from sklearn.feature_extraction.text import TfidfVectorizer\n",
        "from sklearn.metrics.pairwise import cosine_similarity"
      ]
    },
    {
      "cell_type": "code",
      "execution_count": 22,
      "metadata": {
        "id": "-JG0cEzSamDc"
      },
      "outputs": [],
      "source": [
        "def response(user_response):\n",
        "  bot_response =''\n",
        "  TfidfVec = TfidfVectorizer(tokenizer=LemmTokens,stop_words='english')\n",
        "  tfidf = TfidfVec.fit_transform(sentence_tokens)\n",
        "  vals=cosine_similarity(tfidf[-1],tfidf)\n",
        "  idx = vals.argsort()[0][-2]\n",
        "  flat = vals.flatten()\n",
        "  flat.sort()\n",
        "  req_tfidf = flat[-2]\n",
        "  if (req_tfidf==0):\n",
        "    bot_response = bot_response+\"Sorry Fellow human.what you are saying is incomprehendeble\"\n",
        "    return bot_response\n",
        "  else:\n",
        "    bot_response = bot_response + sentence_tokens[idx]\n",
        "    return bot_response"
      ]
    },
    {
      "cell_type": "code",
      "execution_count": null,
      "metadata": {
        "colab": {
          "base_uri": "https://localhost:8080/"
        },
        "id": "G3jic9kaZrPv",
        "outputId": "3ab25868-81a8-4142-de30-35052d36f751"
      },
      "outputs": [
        {
          "output_type": "stream",
          "name": "stdout",
          "text": [
            "Hello! I am the Learned Bot.Start typing your text after greeting to talk to me.For ending convo type bye!\n",
            "hello\n",
            "Bot:Suffering is inevitable\n",
            "zeno\n",
            "Bot:stoicism was originally known as zenonism.\n",
            "marcus aurelias\n",
            "Bot:stoicism flourished throughout the roman and greek world until the 3rd century ad, and among its adherents was emperor marcus aurelius.\n",
            "sadness\n",
            "Bot:[36]\n",
            "\n",
            "passions\n",
            "the stoics arranged the passions under four headings: distress, pleasure, fear and lust.\n"
          ]
        }
      ],
      "source": [
        "flag = True\n",
        "print('Hello! I am the Learned Bot.Start typing your text after greeting to talk to me.For ending convo type bye!')\n",
        "while(flag==True):\n",
        "  user_response =input()\n",
        "  user_response = user_response.lower()\n",
        "  if(user_response!='bye'):\n",
        "    if(user_response == 'thank you'or user_response == 'thanks'):\n",
        "      flag = False\n",
        "      print('Bot: youre welcome..')\n",
        "    else:\n",
        "      if(greet(user_response)!=None):\n",
        "        print('Bot:'+greet(user_response))\n",
        "      else:\n",
        "        sentence_tokens.append(user_response)\n",
        "        word_tokens=word_tokens +nltk.word_tokenize(user_response)\n",
        "        final_words = list(set(word_tokens))\n",
        "        print('Bot:',end = '')\n",
        "        print(response(user_response))\n",
        "        sentence_tokens.remove(user_response)\n",
        "  else:\n",
        "    flag = False\n",
        "    print(\"Bot: onto your life\")\n"
      ]
    }
  ],
  "metadata": {
    "colab": {
      "provenance": [],
      "mount_file_id": "15c1nbukhwmff4RNj_CXYWgejMDS4dilg",
      "authorship_tag": "ABX9TyOOgYQJuWM/nXHB8KQxowkN",
      "include_colab_link": true
    },
    "kernelspec": {
      "display_name": "Python 3",
      "name": "python3"
    },
    "language_info": {
      "name": "python"
    }
  },
  "nbformat": 4,
  "nbformat_minor": 0
}